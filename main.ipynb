{
 "cells": [
  {
   "cell_type": "markdown",
   "metadata": {
    "tags": []
   },
   "source": [
    "# Games"
   ]
  },
  {
   "cell_type": "code",
   "execution_count": 98,
   "metadata": {
    "pycharm": {
     "is_executing": true
    }
   },
   "outputs": [],
   "source": [
    "games = [\n",
    "    \"The Crew: The Quest for Planet Nine\",\n",
    "    \"Fluxx\",\n",
    "    \"Pit\",\n",
    "    \"Chess\",\n",
    "    \"Chinese Checkers\",\n",
    "    \"Carcassonne\",\n",
    "    \"Sushi Go!\",\n",
    "    \"Sushi Go Party!\",\n",
    "    \"Lords of Waterdeep\",\n",
    "    \"Magic Maze\",\n",
    "    \"Adult Drinking Games Compendium\",\n",
    "    \"Scrabble\",\n",
    "    \"Azul\",\n",
    "    \"Codenames\",\n",
    "    \"Monikers\",\n",
    "    \"Exploding Kittens\",\n",
    "    \"Dominion\",\n",
    "    \"Dominion: Intrigue\",\n",
    "    \"Twister\",\n",
    "    \"Monopoly: The Lord of the Rings Trilogy Edition\",\n",
    "    \"Dune\",\n",
    "    \"Pictomania\",\n",
    "    \"Cockroach Poker\",\n",
    "    \"Press Start Pocket: Series 1\",\n",
    "    \"Press Start Pocket: Series 3\",\n",
    "    \"The Game of Go\",\n",
    "    \"Diplomacy\",\n",
    "    \"Cranium\",\n",
    "    \"Bunny Bunny Moose Moose\",\n",
    "    \"Bananagrams\",\n",
    "    \"Backgammon\",\n",
    "    \"Welcome To...\",\n",
    "    \"Santorini\",\n",
    "    \"Robinson Crusoe\",\n",
    "    # \"Alchemy With Friends\", # not on boardgame geek\n",
    "    \"Splendor\",\n",
    "    \"Brain Master\",\n",
    "    \"Monikers: More Monikers\",\n",
    "    \"Modern Art\",\n",
    "    \"Mission to Mars 2049\",\n",
    "    \"Flamme Rouge\",\n",
    "    \"Whitehall Mystery\",\n",
    "    \"Forbidden Desert\",\n",
    "    \"Funemployed\",\n",
    "    \"Decrypto\",\n",
    "    \"Unlock!: Mystery Adventures\",\n",
    "    \"Pandemic\",\n",
    "    \"Concept\",\n",
    "    \"Blood on the Clocktower\",\n",
    "    \"Risk\",\n",
    "    \"Risk\",\n",
    "    \"Santorini\",\n",
    "    \"Meeple Circus\",\n",
    "    # \"The Singing Telegram\", # ??\n",
    "    \"Risk: The Lord of the Rings\",\n",
    "    \"A Game of Thrones\",\n",
    "    \"Clank!: A Deck-Building Adventure\",\n",
    "    \"Wavelength\",\n",
    "    \"Sagrada\",\n",
    "    \"Skull\",\n",
    "    # \"Brexit: The Card Game\", # NOT FOUND\n",
    "    \"Arboretum\",\n",
    "    \"Sushi Go!\",\n",
    "    \"Cards Against Humanity\",\n",
    "    \"Cards Against Humanity: First Expansion\",\n",
    "    \"Vortex\",\n",
    "    \"Superfight\",\n",
    "    \"El Dorado\",\n",
    "    \"Cosmic Encounter\",\n",
    "    \"The Settlers of Catan\",\n",
    "    \"Clue\",\n",
    "    \"Concept\",\n",
    "    \"Trivial Pursuit: 20th Anniversary Edition\",\n",
    "    \"The Quacks of Quedlinburg\",\n",
    "    \"Lords of Xidit\",\n",
    "    \"Poker\",\n",
    "    \"Ticket to Ride\",\n",
    "    \"Avalon\",\n",
    "    \"The Werewolves of Miller's Hollow\",\n",
    "    \"Werewords\",\n",
    "    \"CATAN\",\n",
    "    \"The Settlers of Catan: 5-6 Player Extension\",\n",
    "]"
   ]
  },
  {
   "cell_type": "code",
   "execution_count": 2,
   "metadata": {},
   "outputs": [],
   "source": [
    "from boardgamegeek import BGGClient\n",
    "bgg = BGGClient()"
   ]
  },
  {
   "cell_type": "code",
   "execution_count": 45,
   "metadata": {},
   "outputs": [
    {
     "name": "stdout",
     "output_type": "stream",
     "text": [
      "4 12\n",
      "40 40\n",
      "https://cf.geekdo-images.com/hHFs0_KRoW_FJ0cMIVgZcw__original/img/vbR7Wrdlq4fPcwUE1Ck9CowlJHY=/0x0/filters:format(jpeg)/pic4991925.jpg\n",
      "147151\n"
     ]
    }
   ],
   "source": [
    "print(g.min_players, g.max_players)\n",
    "print(g.min_playing_time, g.max_playing_time)\n",
    "print(g._image)\n",
    "print(g.id)"
   ]
  },
  {
   "cell_type": "code",
   "execution_count": 36,
   "metadata": {
    "collapsed": true,
    "jupyter": {
     "outputs_hidden": true
    },
    "tags": []
   },
   "outputs": [
    {
     "data": {
      "text/plain": [
       "['__class__',\n",
       " '__delattr__',\n",
       " '__dict__',\n",
       " '__dir__',\n",
       " '__doc__',\n",
       " '__eq__',\n",
       " '__format__',\n",
       " '__ge__',\n",
       " '__getattr__',\n",
       " '__getattribute__',\n",
       " '__gt__',\n",
       " '__hash__',\n",
       " '__init__',\n",
       " '__init_subclass__',\n",
       " '__le__',\n",
       " '__lt__',\n",
       " '__module__',\n",
       " '__ne__',\n",
       " '__new__',\n",
       " '__reduce__',\n",
       " '__reduce_ex__',\n",
       " '__repr__',\n",
       " '__setattr__',\n",
       " '__sizeof__',\n",
       " '__str__',\n",
       " '__subclasshook__',\n",
       " '__weakref__',\n",
       " '_comments',\n",
       " '_data',\n",
       " '_expands',\n",
       " '_expands_set',\n",
       " '_expansions',\n",
       " '_expansions_set',\n",
       " '_format',\n",
       " '_id',\n",
       " '_image',\n",
       " '_name',\n",
       " '_player_suggestion',\n",
       " '_stats',\n",
       " '_thumbnail',\n",
       " '_versions',\n",
       " '_versions_set',\n",
       " '_videos',\n",
       " '_videos_ids',\n",
       " '_year_published',\n",
       " 'accessory',\n",
       " 'add_comment',\n",
       " 'add_expanded_game',\n",
       " 'add_expansion',\n",
       " 'alternative_names',\n",
       " 'artists',\n",
       " 'bgg_rank',\n",
       " 'boardgame_rank',\n",
       " 'categories',\n",
       " 'comments',\n",
       " 'data',\n",
       " 'description',\n",
       " 'designers',\n",
       " 'expands',\n",
       " 'expansion',\n",
       " 'expansions',\n",
       " 'families',\n",
       " 'id',\n",
       " 'image',\n",
       " 'implementations',\n",
       " 'max_players',\n",
       " 'max_playing_time',\n",
       " 'mechanics',\n",
       " 'min_age',\n",
       " 'min_players',\n",
       " 'min_playing_time',\n",
       " 'name',\n",
       " 'player_suggestions',\n",
       " 'playing_time',\n",
       " 'publishers',\n",
       " 'ranks',\n",
       " 'rating_average',\n",
       " 'rating_average_weight',\n",
       " 'rating_bayes_average',\n",
       " 'rating_median',\n",
       " 'rating_num_weights',\n",
       " 'rating_stddev',\n",
       " 'thumbnail',\n",
       " 'users_commented',\n",
       " 'users_owned',\n",
       " 'users_rated',\n",
       " 'users_trading',\n",
       " 'users_wanting',\n",
       " 'users_wishing',\n",
       " 'versions',\n",
       " 'videos',\n",
       " 'year']"
      ]
     },
     "execution_count": 36,
     "metadata": {},
     "output_type": "execute_result"
    }
   ],
   "source": [
    "dir(g)"
   ]
  },
  {
   "cell_type": "code",
   "execution_count": 77,
   "metadata": {
    "tags": []
   },
   "outputs": [
    {
     "name": "stdout",
     "output_type": "stream",
     "text": [
      "Catan\n",
      "The Settlers of Catan: 5-6 Player Extension\n"
     ]
    }
   ],
   "source": [
    "import csv\n",
    "\n",
    "with open(\"results.csv\", \"w\") as f:\n",
    "    writer = csv.writer(f)\n",
    "    writer.writerow(\"Name, Image, Description, Category, Rating, Playtime, Players, Difficulty (out of 5)\\n\")\n",
    "    g = bgg.game(game_id=19237)\n",
    "    writer.writerow(f'{g.name},=IMAGE(\"{g.image}\"), \"{g.description}\", \"{g.categories}\", {g.rating_average}, {g.min_playing_time}-{g.max_playing_time}, {g.min_players}-{g.max_players}, {g.rating_average_weight}\\n')\n",
    "    g = bgg.game(game_id=304337)\n",
    "    writer.writerow(f'{g.name},=IMAGE(\"{g.image}\"), \"{g.description}\", \"{g.categories}\", {g.rating_average}, {g.min_playing_time}-{g.max_playing_time}, {g.min_players}-{g.max_players}, {g.rating_average_weight}\\n')\n",
    "    g = bgg.game(game_id=1275)\n",
    "    writer.writerow(f'{g.name},=IMAGE(\"{g.image}\"), \"{g.description}\", \"{g.categories}\", {g.rating_average}, {g.min_playing_time}-{g.max_playing_time}, {g.min_players}-{g.max_players}, {g.rating_average_weight}\\n')\n",
    "    for game in games:\n",
    "        g = bgg.game(game)\n",
    "        print(game)\n",
    "        writer.writerow(f'{g.name},=IMAGE(\"{g.image}\"), \"{g.description}\", \"{g.categories}\", {g.rating_average}, {g.min_playing_time}-{g.max_playing_time}, {g.min_players}-{g.max_players}, {g.rating_average_weight}\\n')"
   ]
  },
  {
   "cell_type": "code",
   "execution_count": 102,
   "metadata": {},
   "outputs": [
    {
     "name": "stdout",
     "output_type": "stream",
     "text": [
      "The Crew: The Quest for Planet Nine\n",
      "Fluxx\n",
      "Pit\n",
      "Chess\n",
      "Chinese Checkers\n",
      "Carcassonne\n",
      "Sushi Go!\n",
      "Sushi Go Party!\n",
      "Lords of Waterdeep\n",
      "Magic Maze\n",
      "Adult Drinking Games Compendium\n",
      "Scrabble\n",
      "Azul\n",
      "Codenames\n",
      "Monikers\n",
      "Exploding Kittens\n",
      "Dominion\n",
      "Dominion: Intrigue\n",
      "Twister\n",
      "Monopoly: The Lord of the Rings Trilogy Edition\n",
      "Dune\n",
      "Pictomania\n",
      "Cockroach Poker\n",
      "Press Start Pocket: Series 1\n",
      "Press Start Pocket: Series 3\n",
      "The Game of Go\n",
      "Diplomacy\n",
      "Cranium\n",
      "Bunny Bunny Moose Moose\n",
      "Bananagrams\n",
      "Backgammon\n",
      "Welcome To...\n",
      "Santorini\n",
      "Robinson Crusoe\n",
      "Splendor\n",
      "Brain Master\n",
      "Monikers: More Monikers\n",
      "Modern Art\n",
      "Mission to Mars 2049\n",
      "Flamme Rouge\n",
      "Whitehall Mystery\n",
      "Forbidden Desert\n",
      "Funemployed\n",
      "Decrypto\n",
      "Unlock!: Mystery Adventures\n",
      "Pandemic\n",
      "Concept\n",
      "Blood on the Clocktower\n",
      "Risk\n",
      "Risk\n",
      "Santorini\n",
      "Meeple Circus\n",
      "Risk: The Lord of the Rings\n",
      "A Game of Thrones\n",
      "Clank!: A Deck-Building Adventure\n",
      "Wavelength\n",
      "Sagrada\n",
      "Skull\n",
      "Arboretum\n",
      "Sushi Go!\n",
      "Cards Against Humanity\n",
      "Cards Against Humanity: First Expansion\n",
      "Vortex\n",
      "Superfight\n",
      "El Dorado\n",
      "Cosmic Encounter\n",
      "The Settlers of Catan\n",
      "Clue\n",
      "Concept\n",
      "Trivial Pursuit: 20th Anniversary Edition\n",
      "The Quacks of Quedlinburg\n",
      "Lords of Xidit\n",
      "Poker\n",
      "Ticket to Ride\n",
      "Avalon\n",
      "The Werewolves of Miller's Hollow\n",
      "Werewords\n",
      "CATAN\n",
      "The Settlers of Catan: 5-6 Player Extension\n"
     ]
    }
   ],
   "source": [
    "import csv\n",
    "\n",
    "with open(\"results.csv\", \"w\", newline=\"\", encoding=\"utf-8\") as f:\n",
    "    writer = csv.writer(f)\n",
    "    writer.writerow([\"Name\", \"Image\", \"Description\", \"Category\", \"Rating (out of 10)\", \"Playtime (mins)\", \"Players\", \"Difficulty (out of 5)\"])\n",
    "    g = bgg.game(game_id=19237)\n",
    "    categories_str = \", \".join(g.categories)\n",
    "    writer.writerow([g.name, f'=IMAGE(\"{g.image}\")', g.description, categories_str, g.rating_average, f\"{g.max_playing_time}\", f\"{g.min_players} to {g.max_players}\", g.rating_average_weight])\n",
    "    g = bgg.game(game_id=304337)\n",
    "    categories_str = \", \".join(g.categories)\n",
    "    writer.writerow([g.name, f'=IMAGE(\"{g.image}\")', g.description, categories_str, g.rating_average, f\"{g.max_playing_time}\", f\"{g.min_players} to {g.max_players}\", g.rating_average_weight])\n",
    "    g = bgg.game(game_id=1275)\n",
    "    categories_str = \", \".join(g.categories)\n",
    "    writer.writerow([g.name, f'=IMAGE(\"{g.image}\")', g.description, categories_str, g.rating_average, f\"{g.max_playing_time}\", f\"{g.min_players} to {g.max_players}\", g.rating_average_weight])\n",
    "    for game in games:\n",
    "        g = bgg.game(game)\n",
    "        print(game)\n",
    "        categories_str = \", \".join(g.categories)\n",
    "\n",
    "        writer.writerow([g.name, f'=IMAGE(\"{g.image}\")', g.description, categories_str, g.rating_average, f\"{g.max_playing_time}\", f\"{g.min_players} to {g.max_players}\", g.rating_average_weight])\n"
   ]
  },
  {
   "cell_type": "code",
   "execution_count": 83,
   "metadata": {},
   "outputs": [
    {
     "data": {
      "text/plain": [
       "6.96766"
      ]
     },
     "execution_count": 83,
     "metadata": {},
     "output_type": "execute_result"
    }
   ],
   "source": [
    "g.rating_average\n"
   ]
  },
  {
   "cell_type": "code",
   "execution_count": null,
   "metadata": {},
   "outputs": [],
   "source": []
  }
 ],
 "metadata": {
  "kernelspec": {
   "display_name": "Python 3 (ipykernel)",
   "language": "python",
   "name": "python3"
  },
  "language_info": {
   "codemirror_mode": {
    "name": "ipython",
    "version": 3
   },
   "file_extension": ".py",
   "mimetype": "text/x-python",
   "name": "python",
   "nbconvert_exporter": "python",
   "pygments_lexer": "ipython3",
   "version": "3.8.16"
  }
 },
 "nbformat": 4,
 "nbformat_minor": 4
}
