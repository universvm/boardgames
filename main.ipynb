{
 "cells": [
  {
   "cell_type": "markdown",
   "metadata": {
    "tags": []
   },
   "source": [
    "# Games"
   ]
  },
  {
   "cell_type": "code",
   "execution_count": 1,
   "metadata": {},
   "outputs": [],
   "source": [
    "games = [\n",
    "    \"The Crew: The Quest for Planet Nine\",\n",
    "    \"Fluxx\",\n",
    "    \"Pit\",\n",
    "    \"Chess\",\n",
    "    \"Chinese Checkers\",\n",
    "    \"Carcassonne\",\n",
    "    \"Sushi Go!\",\n",
    "    \"Sushi Go Party!\",\n",
    "    \"Lords of Waterdeep\",\n",
    "    \"Magic Maze\",\n",
    "    \"Adult Drinking Games Compendium\",\n",
    "    \"Scrabble\",\n",
    "    \"Azul\",\n",
    "    \"Codenames\",\n",
    "    \"Monikers\",\n",
    "    \"Exploding Kittens\",\n",
    "    \"Dominion\",\n",
    "    \"Dominion: Intrigue\",\n",
    "    \"Twister\",\n",
    "    \"Monopoly Lord of the Rings\",\n",
    "    \"Dune\",\n",
    "    \"Pictomania\",\n",
    "    \"Cockroach Poker\",\n",
    "    \"Press Start Pocket Season 1\",\n",
    "    \"Press Start Pocket Season 3\",\n",
    "    \"Go\",\n",
    "    \"Diplomacy\",\n",
    "    \"Cranium\",\n",
    "    \"Bunny Bunny Moose Moose\",\n",
    "    \"Bananagrams\",\n",
    "    \"Backgammon\",\n",
    "    \"Welcome To...\",\n",
    "    \"Santorini\",\n",
    "    \"Robinson Crusoe: Adventures on the Cursed Island\",\n",
    "    \"Alchemy With Friends\",\n",
    "    \"Splendor\",\n",
    "    \"Brain Master\",\n",
    "    \"More Monikers\",\n",
    "    \"Modern Art\",\n",
    "    \"Mars 2049\",\n",
    "    \"Flamme Rouge\",\n",
    "    \"Whitehall Mystery\",\n",
    "    \"Forbidden Desert\",\n",
    "    \"Funemployed\",\n",
    "    \"Decrypto\",\n",
    "    \"Unlock!\",\n",
    "    \"Pandemic\",\n",
    "    \"Concept\",\n",
    "    \"Cash 'n Guns\",\n",
    "    \"Robinson Crusoe: Treasure Chest\",\n",
    "    \"Blood on the Clocktower\",\n",
    "    \"Risk\",\n",
    "    \"Risk: Global Domination\",\n",
    "    \"Santorini\",\n",
    "    \"Meeple Circus\",\n",
    "    \"The Singing Telegram\",\n",
    "    \"Master Detective Game\",\n",
    "    \"Risk Lord of the Rings\",\n",
    "    \"A Game of Thrones: The Board Game\",\n",
    "    \"Clank!\",\n",
    "    \"Wavelength\",\n",
    "    \"Sagrada\",\n",
    "    \"Skull\",\n",
    "    \"Brexit: The Card Game\",\n",
    "    \"Arboretum\",\n",
    "    \"Sushi Go!\",\n",
    "    \"Cards Against Humanity\",\n",
    "    \"Cards Against Humanity: First Expansion\",\n",
    "    \"Vortex\",\n",
    "    \"Superfight\",\n",
    "    \"El Dorado\",\n",
    "    \"Cosmic Encounter\",\n",
    "    \"Settlers of Catan\",\n",
    "    \"Clue\",\n",
    "    \"Concept\",\n",
    "    \"Trivial Pursuit\",\n",
    "    \"The Quacks of Quedlinburg\",\n",
    "    \"Lords of Xidit\",\n",
    "    \"Texas Hold 'em\",\n",
    "    \"Ticket to Ride\",\n",
    "    \"Avalon\",\n",
    "    \"Werewolves of Miller's Hollow\",\n",
    "    \"Werewords\",\n",
    "    \"Settlers of Catan\",\n",
    "    \"Settlers of Catan: 5-6 Player Extension\",\n",
    "]"
   ]
  },
  {
   "cell_type": "code",
   "execution_count": 33,
   "metadata": {},
   "outputs": [],
   "source": [
    "from boardgamegeek import BGGClient\n",
    "bgg = BGGClient()"
   ]
  },
  {
   "cell_type": "code",
   "execution_count": 34,
   "metadata": {},
   "outputs": [
    {
     "name": "stdout",
     "output_type": "stream",
     "text": [
      "1 8\n",
      "15 15\n",
      "6.97707\n",
      "['Exploration', 'Fantasy', 'Maze', 'Real-time']\n"
     ]
    }
   ],
   "source": [
    "print(g.min_players, g.max_players)\n",
    "print(g.min_playing_time, g.max_playing_time)\n",
    "print(g.rating_average)\n",
    "print(g.categories)"
   ]
  },
  {
   "cell_type": "code",
   "execution_count": 35,
   "metadata": {},
   "outputs": [
    {
     "name": "stdout",
     "output_type": "stream",
     "text": [
      "The Crew: The Quest for Planet Nine\n",
      "Fluxx\n",
      "Pit\n",
      "Chess\n",
      "Chinese checkers\n",
      "Carcassonne\n",
      "Sushi Go!\n",
      "Sushi Go Party!\n",
      "Lords of Waterdeep\n",
      "Magic maze\n",
      "Adult drinking games compendium\n",
      "Scrabble\n",
      "Azul\n",
      "Codenames\n",
      "Monikers\n",
      "Exploding kittens\n",
      "Dominion\n"
     ]
    },
    {
     "ename": "BGGItemNotFoundError",
     "evalue": "can't find 'Dominion intrigue'",
     "output_type": "error",
     "traceback": [
      "\u001B[0;31m---------------------------------------------------------------------------\u001B[0m",
      "\u001B[0;31mBGGItemNotFoundError\u001B[0m                      Traceback (most recent call last)",
      "Cell \u001B[0;32mIn[35], line 4\u001B[0m\n\u001B[1;32m      2\u001B[0m f\u001B[38;5;241m.\u001B[39mwrite(\u001B[38;5;124m\"\u001B[39m\u001B[38;5;124mName, Category, Rating, Playtime, Players\u001B[39m\u001B[38;5;130;01m\\n\u001B[39;00m\u001B[38;5;124m\"\u001B[39m)\n\u001B[1;32m      3\u001B[0m \u001B[38;5;28;01mfor\u001B[39;00m game \u001B[38;5;129;01min\u001B[39;00m games:\n\u001B[0;32m----> 4\u001B[0m     g \u001B[38;5;241m=\u001B[39m \u001B[43mbgg\u001B[49m\u001B[38;5;241;43m.\u001B[39;49m\u001B[43mgame\u001B[49m\u001B[43m(\u001B[49m\u001B[43mgame\u001B[49m\u001B[43m)\u001B[49m\n\u001B[1;32m      5\u001B[0m     \u001B[38;5;28mprint\u001B[39m(game)\n\u001B[1;32m      6\u001B[0m     f\u001B[38;5;241m.\u001B[39mwrite(\u001B[38;5;124mf\u001B[39m\u001B[38;5;124m\"\u001B[39m\u001B[38;5;132;01m{\u001B[39;00mg\u001B[38;5;241m.\u001B[39mname\u001B[38;5;132;01m}\u001B[39;00m\u001B[38;5;124m, \u001B[39m\u001B[38;5;132;01m{\u001B[39;00mg\u001B[38;5;241m.\u001B[39mcategories\u001B[38;5;132;01m}\u001B[39;00m\u001B[38;5;124m, \u001B[39m\u001B[38;5;132;01m{\u001B[39;00mg\u001B[38;5;241m.\u001B[39mrating_average\u001B[38;5;132;01m}\u001B[39;00m\u001B[38;5;124m, \u001B[39m\u001B[38;5;132;01m{\u001B[39;00mg\u001B[38;5;241m.\u001B[39mmin_playing_time\u001B[38;5;132;01m}\u001B[39;00m\u001B[38;5;124m-\u001B[39m\u001B[38;5;132;01m{\u001B[39;00mg\u001B[38;5;241m.\u001B[39mmax_playing_time\u001B[38;5;132;01m}\u001B[39;00m\u001B[38;5;124m, \u001B[39m\u001B[38;5;132;01m{\u001B[39;00mg\u001B[38;5;241m.\u001B[39mmin_players\u001B[38;5;132;01m}\u001B[39;00m\u001B[38;5;124m-\u001B[39m\u001B[38;5;132;01m{\u001B[39;00mg\u001B[38;5;241m.\u001B[39mmax_players\u001B[38;5;132;01m}\u001B[39;00m\u001B[38;5;130;01m\\n\u001B[39;00m\u001B[38;5;124m\"\u001B[39m)\n",
      "File \u001B[0;32m/usr/local/Caskroom/miniforge/base/envs/boardgames/lib/python3.8/site-packages/boardgamegeek/api.py:835\u001B[0m, in \u001B[0;36mBGGClient.game\u001B[0;34m(self, name, game_id, choose, versions, videos, historical, marketplace, comments, rating_comments, progress)\u001B[0m\n\u001B[1;32m    832\u001B[0m     \u001B[38;5;28;01mraise\u001B[39;00m BGGError(\u001B[38;5;124m\"\u001B[39m\u001B[38;5;124mgame name or id not specified\u001B[39m\u001B[38;5;124m\"\u001B[39m)\n\u001B[1;32m    834\u001B[0m \u001B[38;5;28;01mif\u001B[39;00m game_id \u001B[38;5;129;01mis\u001B[39;00m \u001B[38;5;28;01mNone\u001B[39;00m:\n\u001B[0;32m--> 835\u001B[0m     game_id \u001B[38;5;241m=\u001B[39m \u001B[38;5;28;43mself\u001B[39;49m\u001B[38;5;241;43m.\u001B[39;49m\u001B[43mget_game_id\u001B[49m\u001B[43m(\u001B[49m\u001B[43mname\u001B[49m\u001B[43m,\u001B[49m\u001B[43m \u001B[49m\u001B[43mchoose\u001B[49m\u001B[38;5;241;43m=\u001B[39;49m\u001B[43mchoose\u001B[49m\u001B[43m)\u001B[49m\n\u001B[1;32m    836\u001B[0m     \u001B[38;5;28;01mif\u001B[39;00m game_id \u001B[38;5;129;01mis\u001B[39;00m \u001B[38;5;28;01mNone\u001B[39;00m:\n\u001B[1;32m    837\u001B[0m         \u001B[38;5;28;01mraise\u001B[39;00m BGGItemNotFoundError\n",
      "File \u001B[0;32m/usr/local/Caskroom/miniforge/base/envs/boardgames/lib/python3.8/site-packages/boardgamegeek/api.py:750\u001B[0m, in \u001B[0;36mBGGClient.get_game_id\u001B[0;34m(self, name, choose)\u001B[0m\n\u001B[1;32m    736\u001B[0m \u001B[38;5;28;01mdef\u001B[39;00m \u001B[38;5;21mget_game_id\u001B[39m(\u001B[38;5;28mself\u001B[39m, name, choose\u001B[38;5;241m=\u001B[39mBGGChoose\u001B[38;5;241m.\u001B[39mFIRST):\n\u001B[1;32m    737\u001B[0m     \u001B[38;5;124;03m\"\"\"\u001B[39;00m\n\u001B[1;32m    738\u001B[0m \u001B[38;5;124;03m    Returns the BGG ID of a game, searching by name\u001B[39;00m\n\u001B[1;32m    739\u001B[0m \n\u001B[0;32m   (...)\u001B[0m\n\u001B[1;32m    748\u001B[0m \u001B[38;5;124;03m    :raises: :py:exc:`boardgamegeek.exceptions.BGGApiTimeoutError` if there was a timeout\u001B[39;00m\n\u001B[1;32m    749\u001B[0m \u001B[38;5;124;03m    \"\"\"\u001B[39;00m\n\u001B[0;32m--> 750\u001B[0m     \u001B[38;5;28;01mreturn\u001B[39;00m \u001B[38;5;28;43mself\u001B[39;49m\u001B[38;5;241;43m.\u001B[39;49m\u001B[43m_get_game_id\u001B[49m\u001B[43m(\u001B[49m\u001B[43mname\u001B[49m\u001B[43m,\u001B[49m\u001B[43m \u001B[49m\u001B[43mgame_type\u001B[49m\u001B[38;5;241;43m=\u001B[39;49m\u001B[43mBGGRestrictSearchResultsTo\u001B[49m\u001B[38;5;241;43m.\u001B[39;49m\u001B[43mBOARD_GAME\u001B[49m\u001B[43m,\u001B[49m\u001B[43m \u001B[49m\u001B[43mchoose\u001B[49m\u001B[38;5;241;43m=\u001B[39;49m\u001B[43mchoose\u001B[49m\u001B[43m)\u001B[49m\n",
      "File \u001B[0;32m/usr/local/Caskroom/miniforge/base/envs/boardgames/lib/python3.8/site-packages/boardgamegeek/api.py:151\u001B[0m, in \u001B[0;36mBGGCommon._get_game_id\u001B[0;34m(self, name, game_type, choose)\u001B[0m\n\u001B[1;32m    148\u001B[0m res \u001B[38;5;241m=\u001B[39m \u001B[38;5;28mself\u001B[39m\u001B[38;5;241m.\u001B[39msearch(name, search_type\u001B[38;5;241m=\u001B[39m[game_type], exact\u001B[38;5;241m=\u001B[39m\u001B[38;5;28;01mTrue\u001B[39;00m)\n\u001B[1;32m    150\u001B[0m \u001B[38;5;28;01mif\u001B[39;00m \u001B[38;5;129;01mnot\u001B[39;00m res:\n\u001B[0;32m--> 151\u001B[0m     \u001B[38;5;28;01mraise\u001B[39;00m BGGItemNotFoundError(\u001B[38;5;124m\"\u001B[39m\u001B[38;5;124mcan\u001B[39m\u001B[38;5;124m'\u001B[39m\u001B[38;5;124mt find \u001B[39m\u001B[38;5;124m'\u001B[39m\u001B[38;5;132;01m{}\u001B[39;00m\u001B[38;5;124m'\u001B[39m\u001B[38;5;124m\"\u001B[39m\u001B[38;5;241m.\u001B[39mformat(name))\n\u001B[1;32m    153\u001B[0m \u001B[38;5;28;01mif\u001B[39;00m choose \u001B[38;5;241m==\u001B[39m BGGChoose\u001B[38;5;241m.\u001B[39mFIRST:\n\u001B[1;32m    154\u001B[0m     \u001B[38;5;28;01mreturn\u001B[39;00m res[\u001B[38;5;241m0\u001B[39m]\u001B[38;5;241m.\u001B[39mid\n",
      "\u001B[0;31mBGGItemNotFoundError\u001B[0m: can't find 'Dominion intrigue'"
     ]
    }
   ],
   "source": [
    "with open(\"results.csv\", \"w\") as f:\n",
    "    f.write(\"Name, Category, Rating, Playtime, Players\\n\")\n",
    "    for game in games:\n",
    "        g = bgg.game(game)\n",
    "        print(game)\n",
    "        f.write(f\"{g.name}, {g.categories}, {g.rating_average}, {g.min_playing_time}-{g.max_playing_time}, {g.min_players}-{g.max_players}\\n\")"
   ]
  },
  {
   "cell_type": "code",
   "execution_count": null,
   "metadata": {},
   "outputs": [],
   "source": []
  }
 ],
 "metadata": {
  "kernelspec": {
   "display_name": "Python 3 (ipykernel)",
   "language": "python",
   "name": "python3"
  },
  "language_info": {
   "codemirror_mode": {
    "name": "ipython",
    "version": 3
   },
   "file_extension": ".py",
   "mimetype": "text/x-python",
   "name": "python",
   "nbconvert_exporter": "python",
   "pygments_lexer": "ipython3",
   "version": "3.8.16"
  }
 },
 "nbformat": 4,
 "nbformat_minor": 4
}
